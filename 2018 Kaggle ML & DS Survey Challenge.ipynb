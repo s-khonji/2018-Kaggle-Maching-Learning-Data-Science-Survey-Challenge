{
 "cells": [
  {
   "cell_type": "code",
   "execution_count": 4,
   "metadata": {},
   "outputs": [],
   "source": [
    "# Basic libraries\n",
    "import pandas as pd\n",
    "import numpy as np\n",
    "import regex as re\n",
    "\n",
    "# Data visualization\n",
    "import matplotlib.pyplot as plt\n",
    "import seaborn as sns\n",
    "\n",
    "# Preprocessing – encoding\n",
    "from sklearn import preprocessing"
   ]
  },
  {
   "cell_type": "markdown",
   "metadata": {},
   "source": [
    "# Data Cleaning"
   ]
  },
  {
   "cell_type": "code",
   "execution_count": 5,
   "metadata": {},
   "outputs": [
    {
     "name": "stderr",
     "output_type": "stream",
     "text": [
      "/anaconda3/lib/python3.6/site-packages/IPython/core/interactiveshell.py:2785: DtypeWarning: Columns (1,3,9,11,13,22,24,25,26,27,28,29,45,57,65,84,86,88,108,110,124,126,151,195,209,224,250,263,265,277,278,279,280,281,282,283,284,285,286,287,288,289,290,291,305,307,323,326,327,330,342,372,385,386,394,395) have mixed types. Specify dtype option on import or set low_memory=False.\n",
      "  interactivity=interactivity, compiler=compiler, result=result)\n"
     ]
    }
   ],
   "source": [
    "# Open csv file, and create DataFrame\n",
    "with open('Kaggle_Salary.csv') as csv_file:\n",
    "    df = pd.read_csv(csv_file)"
   ]
  },
  {
   "cell_type": "markdown",
   "metadata": {},
   "source": [
    "Let's look at a small sample of the data."
   ]
  },
  {
   "cell_type": "code",
   "execution_count": 9,
   "metadata": {},
   "outputs": [
    {
     "data": {
      "text/html": [
       "<div>\n",
       "<style scoped>\n",
       "    .dataframe tbody tr th:only-of-type {\n",
       "        vertical-align: middle;\n",
       "    }\n",
       "\n",
       "    .dataframe tbody tr th {\n",
       "        vertical-align: top;\n",
       "    }\n",
       "\n",
       "    .dataframe thead th {\n",
       "        text-align: right;\n",
       "    }\n",
       "</style>\n",
       "<table border=\"1\" class=\"dataframe\">\n",
       "  <thead>\n",
       "    <tr style=\"text-align: right;\">\n",
       "      <th></th>\n",
       "      <th>Unnamed: 0</th>\n",
       "      <th>Time from Start to Finish (seconds)</th>\n",
       "      <th>Q1</th>\n",
       "      <th>Q1_OTHER_TEXT</th>\n",
       "      <th>Q2</th>\n",
       "      <th>Q3</th>\n",
       "      <th>Q4</th>\n",
       "      <th>Q5</th>\n",
       "      <th>Q6</th>\n",
       "      <th>Q6_OTHER_TEXT</th>\n",
       "      <th>...</th>\n",
       "      <th>Q50_Part_1</th>\n",
       "      <th>Q50_Part_2</th>\n",
       "      <th>Q50_Part_3</th>\n",
       "      <th>Q50_Part_4</th>\n",
       "      <th>Q50_Part_5</th>\n",
       "      <th>Q50_Part_6</th>\n",
       "      <th>Q50_Part_7</th>\n",
       "      <th>Q50_Part_8</th>\n",
       "      <th>Q50_OTHER_TEXT</th>\n",
       "      <th>index</th>\n",
       "    </tr>\n",
       "  </thead>\n",
       "  <tbody>\n",
       "    <tr>\n",
       "      <th>0</th>\n",
       "      <td>0</td>\n",
       "      <td>Duration (in seconds)</td>\n",
       "      <td>What is your gender? - Selected Choice</td>\n",
       "      <td>What is your gender? - Prefer to self-describe...</td>\n",
       "      <td>What is your age (# years)?</td>\n",
       "      <td>In which country do you currently reside?</td>\n",
       "      <td>What is the highest level of formal education ...</td>\n",
       "      <td>Which best describes your undergraduate major?...</td>\n",
       "      <td>Select the title most similar to your current ...</td>\n",
       "      <td>Select the title most similar to your current ...</td>\n",
       "      <td>...</td>\n",
       "      <td>What barriers prevent you from making your wor...</td>\n",
       "      <td>What barriers prevent you from making your wor...</td>\n",
       "      <td>What barriers prevent you from making your wor...</td>\n",
       "      <td>What barriers prevent you from making your wor...</td>\n",
       "      <td>What barriers prevent you from making your wor...</td>\n",
       "      <td>What barriers prevent you from making your wor...</td>\n",
       "      <td>What barriers prevent you from making your wor...</td>\n",
       "      <td>What barriers prevent you from making your wor...</td>\n",
       "      <td>What barriers prevent you from making your wor...</td>\n",
       "      <td>NaN</td>\n",
       "    </tr>\n",
       "    <tr>\n",
       "      <th>1</th>\n",
       "      <td>2</td>\n",
       "      <td>434</td>\n",
       "      <td>Male</td>\n",
       "      <td>-1</td>\n",
       "      <td>30-34</td>\n",
       "      <td>Indonesia</td>\n",
       "      <td>Bachelor’s degree</td>\n",
       "      <td>Engineering (non-computer focused)</td>\n",
       "      <td>Other</td>\n",
       "      <td>0</td>\n",
       "      <td>...</td>\n",
       "      <td>NaN</td>\n",
       "      <td>NaN</td>\n",
       "      <td>NaN</td>\n",
       "      <td>NaN</td>\n",
       "      <td>NaN</td>\n",
       "      <td>NaN</td>\n",
       "      <td>NaN</td>\n",
       "      <td>NaN</td>\n",
       "      <td>-1</td>\n",
       "      <td>0.0</td>\n",
       "    </tr>\n",
       "    <tr>\n",
       "      <th>2</th>\n",
       "      <td>3</td>\n",
       "      <td>718</td>\n",
       "      <td>Female</td>\n",
       "      <td>-1</td>\n",
       "      <td>30-34</td>\n",
       "      <td>United States of America</td>\n",
       "      <td>Master’s degree</td>\n",
       "      <td>Computer science (software engineering, etc.)</td>\n",
       "      <td>Data Scientist</td>\n",
       "      <td>-1</td>\n",
       "      <td>...</td>\n",
       "      <td>NaN</td>\n",
       "      <td>Too time-consuming</td>\n",
       "      <td>NaN</td>\n",
       "      <td>NaN</td>\n",
       "      <td>NaN</td>\n",
       "      <td>NaN</td>\n",
       "      <td>NaN</td>\n",
       "      <td>NaN</td>\n",
       "      <td>-1</td>\n",
       "      <td>1.0</td>\n",
       "    </tr>\n",
       "    <tr>\n",
       "      <th>3</th>\n",
       "      <td>5</td>\n",
       "      <td>731</td>\n",
       "      <td>Male</td>\n",
       "      <td>-1</td>\n",
       "      <td>22-24</td>\n",
       "      <td>India</td>\n",
       "      <td>Master’s degree</td>\n",
       "      <td>Mathematics or statistics</td>\n",
       "      <td>Data Analyst</td>\n",
       "      <td>-1</td>\n",
       "      <td>...</td>\n",
       "      <td>NaN</td>\n",
       "      <td>Too time-consuming</td>\n",
       "      <td>NaN</td>\n",
       "      <td>NaN</td>\n",
       "      <td>Not enough incentives to share my work</td>\n",
       "      <td>NaN</td>\n",
       "      <td>NaN</td>\n",
       "      <td>NaN</td>\n",
       "      <td>-1</td>\n",
       "      <td>2.0</td>\n",
       "    </tr>\n",
       "    <tr>\n",
       "      <th>4</th>\n",
       "      <td>7</td>\n",
       "      <td>959</td>\n",
       "      <td>Male</td>\n",
       "      <td>-1</td>\n",
       "      <td>35-39</td>\n",
       "      <td>Chile</td>\n",
       "      <td>Doctoral degree</td>\n",
       "      <td>Information technology, networking, or system ...</td>\n",
       "      <td>Other</td>\n",
       "      <td>1</td>\n",
       "      <td>...</td>\n",
       "      <td>Too expensive</td>\n",
       "      <td>NaN</td>\n",
       "      <td>NaN</td>\n",
       "      <td>NaN</td>\n",
       "      <td>NaN</td>\n",
       "      <td>I had never considered making my work easier f...</td>\n",
       "      <td>NaN</td>\n",
       "      <td>NaN</td>\n",
       "      <td>-1</td>\n",
       "      <td>3.0</td>\n",
       "    </tr>\n",
       "  </tbody>\n",
       "</table>\n",
       "<p>5 rows × 397 columns</p>\n",
       "</div>"
      ],
      "text/plain": [
       "   Unnamed: 0 Time from Start to Finish (seconds)  \\\n",
       "0           0               Duration (in seconds)   \n",
       "1           2                                 434   \n",
       "2           3                                 718   \n",
       "3           5                                 731   \n",
       "4           7                                 959   \n",
       "\n",
       "                                       Q1  \\\n",
       "0  What is your gender? - Selected Choice   \n",
       "1                                    Male   \n",
       "2                                  Female   \n",
       "3                                    Male   \n",
       "4                                    Male   \n",
       "\n",
       "                                       Q1_OTHER_TEXT  \\\n",
       "0  What is your gender? - Prefer to self-describe...   \n",
       "1                                                 -1   \n",
       "2                                                 -1   \n",
       "3                                                 -1   \n",
       "4                                                 -1   \n",
       "\n",
       "                            Q2                                         Q3  \\\n",
       "0  What is your age (# years)?  In which country do you currently reside?   \n",
       "1                        30-34                                  Indonesia   \n",
       "2                        30-34                   United States of America   \n",
       "3                        22-24                                      India   \n",
       "4                        35-39                                      Chile   \n",
       "\n",
       "                                                  Q4  \\\n",
       "0  What is the highest level of formal education ...   \n",
       "1                                  Bachelor’s degree   \n",
       "2                                    Master’s degree   \n",
       "3                                    Master’s degree   \n",
       "4                                    Doctoral degree   \n",
       "\n",
       "                                                  Q5  \\\n",
       "0  Which best describes your undergraduate major?...   \n",
       "1                 Engineering (non-computer focused)   \n",
       "2      Computer science (software engineering, etc.)   \n",
       "3                          Mathematics or statistics   \n",
       "4  Information technology, networking, or system ...   \n",
       "\n",
       "                                                  Q6  \\\n",
       "0  Select the title most similar to your current ...   \n",
       "1                                              Other   \n",
       "2                                     Data Scientist   \n",
       "3                                       Data Analyst   \n",
       "4                                              Other   \n",
       "\n",
       "                                       Q6_OTHER_TEXT  ...   \\\n",
       "0  Select the title most similar to your current ...  ...    \n",
       "1                                                  0  ...    \n",
       "2                                                 -1  ...    \n",
       "3                                                 -1  ...    \n",
       "4                                                  1  ...    \n",
       "\n",
       "                                          Q50_Part_1  \\\n",
       "0  What barriers prevent you from making your wor...   \n",
       "1                                                NaN   \n",
       "2                                                NaN   \n",
       "3                                                NaN   \n",
       "4                                      Too expensive   \n",
       "\n",
       "                                          Q50_Part_2  \\\n",
       "0  What barriers prevent you from making your wor...   \n",
       "1                                                NaN   \n",
       "2                                 Too time-consuming   \n",
       "3                                 Too time-consuming   \n",
       "4                                                NaN   \n",
       "\n",
       "                                          Q50_Part_3  \\\n",
       "0  What barriers prevent you from making your wor...   \n",
       "1                                                NaN   \n",
       "2                                                NaN   \n",
       "3                                                NaN   \n",
       "4                                                NaN   \n",
       "\n",
       "                                          Q50_Part_4  \\\n",
       "0  What barriers prevent you from making your wor...   \n",
       "1                                                NaN   \n",
       "2                                                NaN   \n",
       "3                                                NaN   \n",
       "4                                                NaN   \n",
       "\n",
       "                                          Q50_Part_5  \\\n",
       "0  What barriers prevent you from making your wor...   \n",
       "1                                                NaN   \n",
       "2                                                NaN   \n",
       "3             Not enough incentives to share my work   \n",
       "4                                                NaN   \n",
       "\n",
       "                                          Q50_Part_6  \\\n",
       "0  What barriers prevent you from making your wor...   \n",
       "1                                                NaN   \n",
       "2                                                NaN   \n",
       "3                                                NaN   \n",
       "4  I had never considered making my work easier f...   \n",
       "\n",
       "                                          Q50_Part_7  \\\n",
       "0  What barriers prevent you from making your wor...   \n",
       "1                                                NaN   \n",
       "2                                                NaN   \n",
       "3                                                NaN   \n",
       "4                                                NaN   \n",
       "\n",
       "                                          Q50_Part_8  \\\n",
       "0  What barriers prevent you from making your wor...   \n",
       "1                                                NaN   \n",
       "2                                                NaN   \n",
       "3                                                NaN   \n",
       "4                                                NaN   \n",
       "\n",
       "                                      Q50_OTHER_TEXT index  \n",
       "0  What barriers prevent you from making your wor...   NaN  \n",
       "1                                                 -1   0.0  \n",
       "2                                                 -1   1.0  \n",
       "3                                                 -1   2.0  \n",
       "4                                                 -1   3.0  \n",
       "\n",
       "[5 rows x 397 columns]"
      ]
     },
     "execution_count": 9,
     "metadata": {},
     "output_type": "execute_result"
    }
   ],
   "source": [
    "df.head()"
   ]
  },
  {
   "cell_type": "markdown",
   "metadata": {},
   "source": [
    "To begin with, let's have a look at how many null values are in each of the 395 columns."
   ]
  },
  {
   "cell_type": "code",
   "execution_count": 10,
   "metadata": {},
   "outputs": [
    {
     "data": {
      "text/plain": [
       "Unnamed: 0                                 0\n",
       "Time from Start to Finish (seconds)        0\n",
       "Q1                                         0\n",
       "Q1_OTHER_TEXT                              0\n",
       "Q2                                         0\n",
       "Q3                                         0\n",
       "Q4                                         0\n",
       "Q5                                       135\n",
       "Q6                                         0\n",
       "Q6_OTHER_TEXT                              0\n",
       "Q7                                         0\n",
       "Q7_OTHER_TEXT                              0\n",
       "Q8                                        76\n",
       "Q9                                         0\n",
       "Q10                                      292\n",
       "Q11_Part_1                              7966\n",
       "Q11_Part_2                             11186\n",
       "Q11_Part_3                             11278\n",
       "Q11_Part_4                              9705\n",
       "Q11_Part_5                             11845\n",
       "Q11_Part_6                             12914\n",
       "Q11_Part_7                             14758\n",
       "Q11_OTHER_TEXT                             0\n",
       "Q12_MULTIPLE_CHOICE                     1572\n",
       "Q12_Part_1_TEXT                            0\n",
       "Q12_Part_2_TEXT                            0\n",
       "Q12_Part_3_TEXT                            0\n",
       "Q12_Part_4_TEXT                            0\n",
       "Q12_Part_5_TEXT                            0\n",
       "Q12_OTHER_TEXT                             0\n",
       "                                       ...  \n",
       "Q47_Part_11                            14673\n",
       "Q47_Part_12                            15017\n",
       "Q47_Part_13                            14838\n",
       "Q47_Part_14                            13982\n",
       "Q47_Part_15                            15251\n",
       "Q47_Part_16                            15329\n",
       "Q48                                     5415\n",
       "Q49_Part_1                             11041\n",
       "Q49_Part_2                             11930\n",
       "Q49_Part_3                             13236\n",
       "Q49_Part_4                             13285\n",
       "Q49_Part_5                             14294\n",
       "Q49_Part_6                              9166\n",
       "Q49_Part_7                              9380\n",
       "Q49_Part_8                             11774\n",
       "Q49_Part_9                             12483\n",
       "Q49_Part_10                            12024\n",
       "Q49_Part_11                            14761\n",
       "Q49_Part_12                            15262\n",
       "Q49_OTHER_TEXT                             0\n",
       "Q50_Part_1                             14421\n",
       "Q50_Part_2                             10329\n",
       "Q50_Part_3                             13445\n",
       "Q50_Part_4                             13896\n",
       "Q50_Part_5                             12630\n",
       "Q50_Part_6                             14667\n",
       "Q50_Part_7                             13635\n",
       "Q50_Part_8                             15037\n",
       "Q50_OTHER_TEXT                             0\n",
       "index                                      1\n",
       "Length: 397, dtype: int64"
      ]
     },
     "execution_count": 10,
     "metadata": {},
     "output_type": "execute_result"
    }
   ],
   "source": [
    "df.isnull().sum()"
   ]
  },
  {
   "cell_type": "markdown",
   "metadata": {},
   "source": [
    "The first thing I have done is drop columns that I have deemed not useful, or have not been filled in properly during the survey; I have done this by manually looking through the various columns in the data set. This includes the 'Time from start to finish' column, the index column, and several others. For example, looking at column 'Q8', I can see that a large portion of candidates have provided dates instead of years (which is not useful)."
   ]
  },
  {
   "cell_type": "code",
   "execution_count": 11,
   "metadata": {},
   "outputs": [],
   "source": [
    "df = df.drop(df.index[[0]]) # Drop first row (contains survey questions)\n",
    "df = df.drop(['Q8', 'Q43', 'Q46', 'Unnamed: 0', 'Time from Start to Finish (seconds)', 'index'], axis = 1)"
   ]
  },
  {
   "cell_type": "markdown",
   "metadata": {},
   "source": [
    "Additionally, all columns names containing the strings 'OTHER' or 'TEXT' are useless. These columns contain meaningless numbers that correspond to free-form text inputs, and there is no way of tracing the free-form text to the respondents. These columns have therefore been removed by filtering out columns containing these strings, and dropping them."
   ]
  },
  {
   "cell_type": "code",
   "execution_count": 12,
   "metadata": {},
   "outputs": [],
   "source": [
    "df = df[df.columns.drop(df.filter(regex='OTHER').columns)] # Drop columns containing string 'OTHER'\n",
    "df = df[df.columns.drop(df.filter(regex='TEXT').columns)] # Drop columns containing string 'TEXT'"
   ]
  },
  {
   "cell_type": "markdown",
   "metadata": {},
   "source": [
    "It is important to try and understand why certain columns are missing values. One observation is that columns with 'Part_1', 'Part_2', 'Part_3' etc. only have 2 unique values – one of which ia a null value. As such, the majority of data in these columns appears to be missing, however there is a reason these values are missing (e.g. for 'Q16_Part_3' the respondent does not use SQL on a regular basis, and so the value is null). As such, these columns are 'informative-missings', and will be kept; they will be treated as binary categorical columns.\n",
    "\n",
    "However, those columns that no have various parts, should ideally not have a high proportion of NaNs. Any NaNs contained in these columns are 'non-informative-missings'. The for loop below is used to identify columns that have more than 20% NaN values, that do not have several parts (and therefore a known reason for having a large portion of NaNs)."
   ]
  },
  {
   "cell_type": "code",
   "execution_count": 13,
   "metadata": {},
   "outputs": [
    {
     "name": "stdout",
     "output_type": "stream",
     "text": [
      "28.135329574178495% of column Q17 is missing.\n",
      "37.39062803811005% of column Q20 is missing.\n",
      "40.46276492319657% of column Q22 is missing.\n",
      "33.21666990731739% of column Q32 is missing.\n",
      "52.757793764988016% of column Q37 is missing.\n",
      "24.389137338777626% of column Q40 is missing.\n",
      "35.09624732646316% of column Q48 is missing.\n"
     ]
    }
   ],
   "source": [
    "# Return column names that do not have a single answer (majority NaNs), but have more than 20% missing data\n",
    "for column in df.columns:\n",
    "    if 'Part' not in column and df[column].isnull().mean()*100>20:\n",
    "        print(str(df[column].isnull().mean()*100) + '% of column ' + str(column) + ' is' + ' missing.')"
   ]
  },
  {
   "cell_type": "markdown",
   "metadata": {},
   "source": [
    "Imputing missing values always produces some bias in the data. Filling in the columns identified above with the modal value would introduce significant bias into the data, and so they will be dropped instead."
   ]
  },
  {
   "cell_type": "code",
   "execution_count": 7,
   "metadata": {},
   "outputs": [],
   "source": [
    "# Drop columns that do not have a systematic reason for containing a large number of NaN values (not in parts).\n",
    "df = df.drop(['Q17','Q20', 'Q22', 'Q32','Q37', 'Q40', 'Q48'], axis = 1)"
   ]
  },
  {
   "cell_type": "markdown",
   "metadata": {},
   "source": [
    "I am also going to drop rows that do not have atleast 20 (non-NaN) values, since these rows do not contain much useful information to perform regression analyses."
   ]
  },
  {
   "cell_type": "code",
   "execution_count": 8,
   "metadata": {},
   "outputs": [],
   "source": [
    "# Drop rows that do not have atleast 20 NaN values\n",
    "df = df.dropna(axis = 0, thresh = 20)"
   ]
  },
  {
   "cell_type": "markdown",
   "metadata": {},
   "source": [
    "Let's look at how many NaN values are contained in the remaining columns that do not have different parts (and therefore contain 'non-informative-missings'). The for loop below identifies these columns and prints the number of NaNs contained."
   ]
  },
  {
   "cell_type": "code",
   "execution_count": 9,
   "metadata": {},
   "outputs": [
    {
     "name": "stdout",
     "output_type": "stream",
     "text": [
      "Q1 0\n",
      "Q2 0\n",
      "Q3 0\n",
      "Q4 0\n",
      "Q5 92\n",
      "Q6 0\n",
      "Q7 0\n",
      "Q9 0\n",
      "Q10 0\n",
      "Q12_MULTIPLE_CHOICE 0\n",
      "Q18 33\n",
      "Q23 138\n",
      "Q24 157\n",
      "Q25 183\n",
      "Q26 192\n"
     ]
    }
   ],
   "source": [
    "# Create empty list\n",
    "fill_columns = []\n",
    "\n",
    "for c in df.columns:   \n",
    "    if 'Part' not in c:\n",
    "        # Print column names, and number of NaNs\n",
    "        print(c, df[c].isnull().sum())\n",
    "        # Append to empty list (for use below)\n",
    "        fill_columns.append(c)"
   ]
  },
  {
   "cell_type": "markdown",
   "metadata": {},
   "source": [
    "It can be seen that the prior data cleaning steps have significantly decreased the number of unexplained NaNs contained in the dataset. For these columns, I am going to fill all the NaN values with the modal value for the column. While this still introduces some bias into the data, by over-emphasizing the number of modal values, the number of NaNs is relatively small, and so the bias introduced should not be too significant.\n",
    "\n",
    "The line of code below uses panda's .mode function to retrieve the modal value for each column identified above (contained in the list 'fill_columns'), and then fills all NaNs with the retrieved modal values."
   ]
  },
  {
   "cell_type": "code",
   "execution_count": 10,
   "metadata": {},
   "outputs": [],
   "source": [
    "# Fill 'non-informative' missings with modal value for the column.\n",
    "df[fill_columns] = df[fill_columns].fillna(df[fill_columns].mode)"
   ]
  },
  {
   "cell_type": "markdown",
   "metadata": {},
   "source": [
    "Having cleaned the data, categorical columns can now be encoded so that it can be processed by machine learning algorithms. I have chosen to use sklearn's Label Encoder, which assigns each unique categorical variable in a column with a different integer value. This is not an ideal method, because encoding in this way introduces ordinality into the categorical variables (from the perspective of the algorithm), even though the data is nominal. For example, if 'Male' and 'Female' are encoded to 1 and 0 respectively, then the algorithm will ofcourse assume that 1>0, even though 'Male'>'Female' makes no sense. As such, this encoding method will decrease the accuracy of predictions. A better choice would be 'one-hot' encoding, which splits each unique value in a column into a binary 1 and 0 values, which works much better for nominal data. However, 'one-hot' encoding greatly increases the number of columns in the data, because a new column is needed for each unique value. After 'one-hot' encoding the data, I consistently ran into memory issues, even after applying PCA (I also tried IncrementalPCA) to reduce the number of dimensions of the data. Furthermore, although one-hot encoding increased the acurracy of the Lasso Regression algorithm by around 10%, the increase in accuracy for the other three (tree-based) algorithms was not significant. As such, I have decided to stick with label encoding, even though I am aware of the fault in this technique."
   ]
  },
  {
   "cell_type": "code",
   "execution_count": 16,
   "metadata": {},
   "outputs": [],
   "source": [
    "# Create new dataframe to be encoded\n",
    "df_enc = df.copy()"
   ]
  },
  {
   "cell_type": "markdown",
   "metadata": {},
   "source": [
    "Examining the data, it can be seen that all of it is categorical apart from the target variable (Q9). As such, this column should not be encoded, and therefore removed from the encoded DataFrame."
   ]
  },
  {
   "cell_type": "code",
   "execution_count": 17,
   "metadata": {},
   "outputs": [],
   "source": [
    "df_enc = df_enc.drop(['Q9'], axis = 1) # Remove (continuous) target variable from encoded dataframe"
   ]
  },
  {
   "cell_type": "code",
   "execution_count": 18,
   "metadata": {},
   "outputs": [],
   "source": [
    "# Object for label encoding\n",
    "le = preprocessing.LabelEncoder()"
   ]
  },
  {
   "cell_type": "code",
   "execution_count": 19,
   "metadata": {},
   "outputs": [],
   "source": [
    "# Apply label encoding object to each column in the DataFrame\n",
    "for col in df.columns.values.tolist():\n",
    "    df_enc[col]=le.fit_transform(df[col].astype(str))"
   ]
  },
  {
   "cell_type": "markdown",
   "metadata": {},
   "source": [
    "We can now see what the new (label encoded) DataFrame looks like."
   ]
  },
  {
   "cell_type": "code",
   "execution_count": 20,
   "metadata": {},
   "outputs": [
    {
     "data": {
      "text/html": [
       "<div>\n",
       "<style scoped>\n",
       "    .dataframe tbody tr th:only-of-type {\n",
       "        vertical-align: middle;\n",
       "    }\n",
       "\n",
       "    .dataframe tbody tr th {\n",
       "        vertical-align: top;\n",
       "    }\n",
       "\n",
       "    .dataframe thead th {\n",
       "        text-align: right;\n",
       "    }\n",
       "</style>\n",
       "<table border=\"1\" class=\"dataframe\">\n",
       "  <thead>\n",
       "    <tr style=\"text-align: right;\">\n",
       "      <th></th>\n",
       "      <th>Q1</th>\n",
       "      <th>Q2</th>\n",
       "      <th>Q3</th>\n",
       "      <th>Q4</th>\n",
       "      <th>Q5</th>\n",
       "      <th>Q6</th>\n",
       "      <th>Q7</th>\n",
       "      <th>Q10</th>\n",
       "      <th>Q11_Part_1</th>\n",
       "      <th>Q11_Part_2</th>\n",
       "      <th>...</th>\n",
       "      <th>Q49_Part_12</th>\n",
       "      <th>Q50_Part_1</th>\n",
       "      <th>Q50_Part_2</th>\n",
       "      <th>Q50_Part_3</th>\n",
       "      <th>Q50_Part_4</th>\n",
       "      <th>Q50_Part_5</th>\n",
       "      <th>Q50_Part_6</th>\n",
       "      <th>Q50_Part_7</th>\n",
       "      <th>Q50_Part_8</th>\n",
       "      <th>Q9</th>\n",
       "    </tr>\n",
       "  </thead>\n",
       "  <tbody>\n",
       "    <tr>\n",
       "      <th>1</th>\n",
       "      <td>1</td>\n",
       "      <td>3</td>\n",
       "      <td>22</td>\n",
       "      <td>0</td>\n",
       "      <td>2</td>\n",
       "      <td>11</td>\n",
       "      <td>9</td>\n",
       "      <td>1</td>\n",
       "      <td>1</td>\n",
       "      <td>1</td>\n",
       "      <td>...</td>\n",
       "      <td>1</td>\n",
       "      <td>1</td>\n",
       "      <td>1</td>\n",
       "      <td>1</td>\n",
       "      <td>1</td>\n",
       "      <td>1</td>\n",
       "      <td>1</td>\n",
       "      <td>1</td>\n",
       "      <td>1</td>\n",
       "      <td>3560</td>\n",
       "    </tr>\n",
       "    <tr>\n",
       "      <th>2</th>\n",
       "      <td>0</td>\n",
       "      <td>3</td>\n",
       "      <td>56</td>\n",
       "      <td>3</td>\n",
       "      <td>1</td>\n",
       "      <td>7</td>\n",
       "      <td>7</td>\n",
       "      <td>0</td>\n",
       "      <td>0</td>\n",
       "      <td>1</td>\n",
       "      <td>...</td>\n",
       "      <td>1</td>\n",
       "      <td>1</td>\n",
       "      <td>0</td>\n",
       "      <td>1</td>\n",
       "      <td>1</td>\n",
       "      <td>1</td>\n",
       "      <td>1</td>\n",
       "      <td>1</td>\n",
       "      <td>1</td>\n",
       "      <td>5378</td>\n",
       "    </tr>\n",
       "    <tr>\n",
       "      <th>3</th>\n",
       "      <td>1</td>\n",
       "      <td>1</td>\n",
       "      <td>21</td>\n",
       "      <td>3</td>\n",
       "      <td>8</td>\n",
       "      <td>4</td>\n",
       "      <td>7</td>\n",
       "      <td>0</td>\n",
       "      <td>1</td>\n",
       "      <td>1</td>\n",
       "      <td>...</td>\n",
       "      <td>1</td>\n",
       "      <td>1</td>\n",
       "      <td>0</td>\n",
       "      <td>1</td>\n",
       "      <td>1</td>\n",
       "      <td>0</td>\n",
       "      <td>1</td>\n",
       "      <td>1</td>\n",
       "      <td>1</td>\n",
       "      <td>10969</td>\n",
       "    </tr>\n",
       "    <tr>\n",
       "      <th>4</th>\n",
       "      <td>1</td>\n",
       "      <td>4</td>\n",
       "      <td>8</td>\n",
       "      <td>1</td>\n",
       "      <td>7</td>\n",
       "      <td>11</td>\n",
       "      <td>0</td>\n",
       "      <td>1</td>\n",
       "      <td>1</td>\n",
       "      <td>1</td>\n",
       "      <td>...</td>\n",
       "      <td>1</td>\n",
       "      <td>0</td>\n",
       "      <td>1</td>\n",
       "      <td>1</td>\n",
       "      <td>1</td>\n",
       "      <td>1</td>\n",
       "      <td>0</td>\n",
       "      <td>1</td>\n",
       "      <td>1</td>\n",
       "      <td>1090</td>\n",
       "    </tr>\n",
       "    <tr>\n",
       "      <th>5</th>\n",
       "      <td>1</td>\n",
       "      <td>0</td>\n",
       "      <td>21</td>\n",
       "      <td>3</td>\n",
       "      <td>7</td>\n",
       "      <td>11</td>\n",
       "      <td>16</td>\n",
       "      <td>4</td>\n",
       "      <td>1</td>\n",
       "      <td>0</td>\n",
       "      <td>...</td>\n",
       "      <td>1</td>\n",
       "      <td>1</td>\n",
       "      <td>1</td>\n",
       "      <td>1</td>\n",
       "      <td>1</td>\n",
       "      <td>0</td>\n",
       "      <td>1</td>\n",
       "      <td>1</td>\n",
       "      <td>1</td>\n",
       "      <td>5317</td>\n",
       "    </tr>\n",
       "  </tbody>\n",
       "</table>\n",
       "<p>5 rows × 356 columns</p>\n",
       "</div>"
      ],
      "text/plain": [
       "   Q1  Q2  Q3  Q4  Q5  Q6  Q7  Q10  Q11_Part_1  Q11_Part_2  ...    \\\n",
       "1   1   3  22   0   2  11   9    1           1           1  ...     \n",
       "2   0   3  56   3   1   7   7    0           0           1  ...     \n",
       "3   1   1  21   3   8   4   7    0           1           1  ...     \n",
       "4   1   4   8   1   7  11   0    1           1           1  ...     \n",
       "5   1   0  21   3   7  11  16    4           1           0  ...     \n",
       "\n",
       "   Q49_Part_12  Q50_Part_1  Q50_Part_2  Q50_Part_3  Q50_Part_4  Q50_Part_5  \\\n",
       "1            1           1           1           1           1           1   \n",
       "2            1           1           0           1           1           1   \n",
       "3            1           1           0           1           1           0   \n",
       "4            1           0           1           1           1           1   \n",
       "5            1           1           1           1           1           0   \n",
       "\n",
       "   Q50_Part_6  Q50_Part_7  Q50_Part_8     Q9  \n",
       "1           1           1           1   3560  \n",
       "2           1           1           1   5378  \n",
       "3           1           1           1  10969  \n",
       "4           0           1           1   1090  \n",
       "5           1           1           1   5317  \n",
       "\n",
       "[5 rows x 356 columns]"
      ]
     },
     "execution_count": 20,
     "metadata": {},
     "output_type": "execute_result"
    }
   ],
   "source": [
    "df_enc.head()"
   ]
  },
  {
   "cell_type": "markdown",
   "metadata": {},
   "source": [
    "The code below was used to perform 'one-hot' encoding. For the reasons discussed above, this encoding has not been used. Nonetheless, it is still interesting to see how 'one-hot' encoding alters the strucutre of the data."
   ]
  },
  {
   "cell_type": "code",
   "execution_count": 22,
   "metadata": {},
   "outputs": [],
   "source": [
    "# Function for one-hot encoding\n",
    "def one_hot(df, cols):\n",
    "    \n",
    "    return [pd.get_dummies(df[col], prefix=col, drop_first=False) for col in cols]\n",
    "\n",
    "enc = one_hot(df_enc, df_enc.columns)\n",
    "# Concatenate each dataframe consisting of sub-solumns to a new DataFrame\n",
    "df_one_hot = pd.concat(enc, axis=1)"
   ]
  },
  {
   "cell_type": "code",
   "execution_count": 23,
   "metadata": {},
   "outputs": [
    {
     "data": {
      "text/html": [
       "<div>\n",
       "<style scoped>\n",
       "    .dataframe tbody tr th:only-of-type {\n",
       "        vertical-align: middle;\n",
       "    }\n",
       "\n",
       "    .dataframe tbody tr th {\n",
       "        vertical-align: top;\n",
       "    }\n",
       "\n",
       "    .dataframe thead th {\n",
       "        text-align: right;\n",
       "    }\n",
       "</style>\n",
       "<table border=\"1\" class=\"dataframe\">\n",
       "  <thead>\n",
       "    <tr style=\"text-align: right;\">\n",
       "      <th></th>\n",
       "      <th>Q1_0</th>\n",
       "      <th>Q1_1</th>\n",
       "      <th>Q1_2</th>\n",
       "      <th>Q1_3</th>\n",
       "      <th>Q2_0</th>\n",
       "      <th>Q2_1</th>\n",
       "      <th>Q2_2</th>\n",
       "      <th>Q2_3</th>\n",
       "      <th>Q2_4</th>\n",
       "      <th>Q2_5</th>\n",
       "      <th>...</th>\n",
       "      <th>Q9_14001</th>\n",
       "      <th>Q9_14002</th>\n",
       "      <th>Q9_14003</th>\n",
       "      <th>Q9_14004</th>\n",
       "      <th>Q9_14005</th>\n",
       "      <th>Q9_14006</th>\n",
       "      <th>Q9_14007</th>\n",
       "      <th>Q9_14008</th>\n",
       "      <th>Q9_14009</th>\n",
       "      <th>Q9_14010</th>\n",
       "    </tr>\n",
       "  </thead>\n",
       "  <tbody>\n",
       "    <tr>\n",
       "      <th>1</th>\n",
       "      <td>0</td>\n",
       "      <td>1</td>\n",
       "      <td>0</td>\n",
       "      <td>0</td>\n",
       "      <td>0</td>\n",
       "      <td>0</td>\n",
       "      <td>0</td>\n",
       "      <td>1</td>\n",
       "      <td>0</td>\n",
       "      <td>0</td>\n",
       "      <td>...</td>\n",
       "      <td>0</td>\n",
       "      <td>0</td>\n",
       "      <td>0</td>\n",
       "      <td>0</td>\n",
       "      <td>0</td>\n",
       "      <td>0</td>\n",
       "      <td>0</td>\n",
       "      <td>0</td>\n",
       "      <td>0</td>\n",
       "      <td>0</td>\n",
       "    </tr>\n",
       "    <tr>\n",
       "      <th>2</th>\n",
       "      <td>1</td>\n",
       "      <td>0</td>\n",
       "      <td>0</td>\n",
       "      <td>0</td>\n",
       "      <td>0</td>\n",
       "      <td>0</td>\n",
       "      <td>0</td>\n",
       "      <td>1</td>\n",
       "      <td>0</td>\n",
       "      <td>0</td>\n",
       "      <td>...</td>\n",
       "      <td>0</td>\n",
       "      <td>0</td>\n",
       "      <td>0</td>\n",
       "      <td>0</td>\n",
       "      <td>0</td>\n",
       "      <td>0</td>\n",
       "      <td>0</td>\n",
       "      <td>0</td>\n",
       "      <td>0</td>\n",
       "      <td>0</td>\n",
       "    </tr>\n",
       "    <tr>\n",
       "      <th>3</th>\n",
       "      <td>0</td>\n",
       "      <td>1</td>\n",
       "      <td>0</td>\n",
       "      <td>0</td>\n",
       "      <td>0</td>\n",
       "      <td>1</td>\n",
       "      <td>0</td>\n",
       "      <td>0</td>\n",
       "      <td>0</td>\n",
       "      <td>0</td>\n",
       "      <td>...</td>\n",
       "      <td>0</td>\n",
       "      <td>0</td>\n",
       "      <td>0</td>\n",
       "      <td>0</td>\n",
       "      <td>0</td>\n",
       "      <td>0</td>\n",
       "      <td>0</td>\n",
       "      <td>0</td>\n",
       "      <td>0</td>\n",
       "      <td>0</td>\n",
       "    </tr>\n",
       "    <tr>\n",
       "      <th>4</th>\n",
       "      <td>0</td>\n",
       "      <td>1</td>\n",
       "      <td>0</td>\n",
       "      <td>0</td>\n",
       "      <td>0</td>\n",
       "      <td>0</td>\n",
       "      <td>0</td>\n",
       "      <td>0</td>\n",
       "      <td>1</td>\n",
       "      <td>0</td>\n",
       "      <td>...</td>\n",
       "      <td>0</td>\n",
       "      <td>0</td>\n",
       "      <td>0</td>\n",
       "      <td>0</td>\n",
       "      <td>0</td>\n",
       "      <td>0</td>\n",
       "      <td>0</td>\n",
       "      <td>0</td>\n",
       "      <td>0</td>\n",
       "      <td>0</td>\n",
       "    </tr>\n",
       "    <tr>\n",
       "      <th>5</th>\n",
       "      <td>0</td>\n",
       "      <td>1</td>\n",
       "      <td>0</td>\n",
       "      <td>0</td>\n",
       "      <td>1</td>\n",
       "      <td>0</td>\n",
       "      <td>0</td>\n",
       "      <td>0</td>\n",
       "      <td>0</td>\n",
       "      <td>0</td>\n",
       "      <td>...</td>\n",
       "      <td>0</td>\n",
       "      <td>0</td>\n",
       "      <td>0</td>\n",
       "      <td>0</td>\n",
       "      <td>0</td>\n",
       "      <td>0</td>\n",
       "      <td>0</td>\n",
       "      <td>0</td>\n",
       "      <td>0</td>\n",
       "      <td>0</td>\n",
       "    </tr>\n",
       "  </tbody>\n",
       "</table>\n",
       "<p>5 rows × 16073 columns</p>\n",
       "</div>"
      ],
      "text/plain": [
       "   Q1_0  Q1_1  Q1_2  Q1_3  Q2_0  Q2_1  Q2_2  Q2_3  Q2_4  Q2_5    ...     \\\n",
       "1     0     1     0     0     0     0     0     1     0     0    ...      \n",
       "2     1     0     0     0     0     0     0     1     0     0    ...      \n",
       "3     0     1     0     0     0     1     0     0     0     0    ...      \n",
       "4     0     1     0     0     0     0     0     0     1     0    ...      \n",
       "5     0     1     0     0     1     0     0     0     0     0    ...      \n",
       "\n",
       "   Q9_14001  Q9_14002  Q9_14003  Q9_14004  Q9_14005  Q9_14006  Q9_14007  \\\n",
       "1         0         0         0         0         0         0         0   \n",
       "2         0         0         0         0         0         0         0   \n",
       "3         0         0         0         0         0         0         0   \n",
       "4         0         0         0         0         0         0         0   \n",
       "5         0         0         0         0         0         0         0   \n",
       "\n",
       "   Q9_14008  Q9_14009  Q9_14010  \n",
       "1         0         0         0  \n",
       "2         0         0         0  \n",
       "3         0         0         0  \n",
       "4         0         0         0  \n",
       "5         0         0         0  \n",
       "\n",
       "[5 rows x 16073 columns]"
      ]
     },
     "execution_count": 23,
     "metadata": {},
     "output_type": "execute_result"
    }
   ],
   "source": [
    "df_one_hot.head()"
   ]
  },
  {
   "cell_type": "markdown",
   "metadata": {},
   "source": [
    "It can be seen that now each column is split into various sub-columns consisting of binary values for each unique variable. For example, Q1 had 4 unique values – 'Male', 'Female, 'Prefer not to say' and 'Prefer to self-describe', and has therefore been split into 4 sub-columns as can be seen above. 'One-hot' encoding has increased the number of columns in the DataFrame to 14553!"
   ]
  },
  {
   "cell_type": "code",
   "execution_count": 18,
   "metadata": {},
   "outputs": [
    {
     "data": {
      "text/plain": [
       "dtype('O')"
      ]
     },
     "execution_count": 18,
     "metadata": {},
     "output_type": "execute_result"
    }
   ],
   "source": [
    "df['Q9'].dtype"
   ]
  },
  {
   "cell_type": "markdown",
   "metadata": {},
   "source": [
    "Lastly, the data type of the target column must be changed from 'Object' to 'int64'."
   ]
  },
  {
   "cell_type": "code",
   "execution_count": 19,
   "metadata": {},
   "outputs": [],
   "source": [
    "# Convert target variable to numeric data type\n",
    "df['Q9'] = pd.to_numeric(df['Q9'])"
   ]
  },
  {
   "cell_type": "code",
   "execution_count": 20,
   "metadata": {},
   "outputs": [
    {
     "data": {
      "text/plain": [
       "dtype('int64')"
      ]
     },
     "execution_count": 20,
     "metadata": {},
     "output_type": "execute_result"
    }
   ],
   "source": [
    "df['Q9'].dtype"
   ]
  },
  {
   "cell_type": "markdown",
   "metadata": {},
   "source": [
    "# Exploratory Analysis"
   ]
  },
  {
   "cell_type": "markdown",
   "metadata": {},
   "source": [
    "To begin my exploratory analysis, I am going to visualize the order of feature importances."
   ]
  },
  {
   "cell_type": "code",
   "execution_count": 21,
   "metadata": {},
   "outputs": [],
   "source": [
    "# Declare features (encoded DataFrame) and target variable (Q9)\n",
    "X = df_enc\n",
    "y = df['Q9']"
   ]
  },
  {
   "cell_type": "markdown",
   "metadata": {},
   "source": [
    "To compute feature importance values, I am going to train a Random Forest Classifier model. This model evaluates feature importances based on information content (conditional entropy). Specifically, it implements Gini Importance, which means that each feature importance score is calculated by taking the sum over the number of splits that incude the feature (across all trees), in proportion to the number of samples it splits."
   ]
  },
  {
   "cell_type": "code",
   "execution_count": 22,
   "metadata": {},
   "outputs": [],
   "source": [
    "from sklearn.ensemble import RandomForestClassifier"
   ]
  },
  {
   "cell_type": "code",
   "execution_count": 23,
   "metadata": {},
   "outputs": [
    {
     "name": "stderr",
     "output_type": "stream",
     "text": [
      "/anaconda3/lib/python3.6/site-packages/sklearn/ensemble/forest.py:248: FutureWarning: The default value of n_estimators will change from 10 in version 0.20 to 100 in 0.22.\n",
      "  \"10 in version 0.20 to 100 in 0.22.\", FutureWarning)\n"
     ]
    }
   ],
   "source": [
    "# Decision tree classifer for feature importance\n",
    "clf = RandomForestClassifier(random_state=0, n_jobs=-1)\n",
    "\n",
    "# Train DT classifier\n",
    "model_importances = clf.fit(X, y)"
   ]
  },
  {
   "cell_type": "code",
   "execution_count": 24,
   "metadata": {},
   "outputs": [],
   "source": [
    "# Make feature importance scores into DataFrame, put values in descending order,  and map scores to feature names\n",
    "feature_importances = pd.DataFrame(model_importances.feature_importances_, index = df_enc.columns,\n",
    "                                    columns=['Feature_Importance']).sort_values('Feature_Importance',  ascending=False)"
   ]
  },
  {
   "cell_type": "markdown",
   "metadata": {},
   "source": [
    "Let's plot feature importance for the top 100 features (350 features is too many to visualize in this notebook)."
   ]
  },
  {
   "cell_type": "code",
   "execution_count": 25,
   "metadata": {},
   "outputs": [
    {
     "data": {
      "image/png": "[encoded data removed]",
      "text/plain": [
       "<Figure size 1440x720 with 1 Axes>"
      ]
     },
     "metadata": {},
     "output_type": "display_data"
    }
   ],
   "source": [
    "#Plot feature importance scores \n",
    "plt.figure( figsize=(20,10) )\n",
    "plt.bar(feature_importances.head(n=100).index,feature_importances['Feature_Importance'].head(n=100))\n",
    "plt.xticks(rotation='vertical')\n",
    "plt.xlabel('Features', fontsize = 14)\n",
    "plt.ylabel('Feature Importance Score', fontsize = 14)\n",
    "plt.title('Feature Importances for Top 100 Most Important Features', fontsize = 18)\n",
    "plt.show()"
   ]
  },
  {
   "cell_type": "markdown",
   "metadata": {},
   "source": [
    "The plot of feature importances above shows that Q3, which is the country that the respondent resides in, is the most important feature in predicting yearly compensation. Intuitively, this makes sense since the cost of living (purchasing power) varies largely between nations. Other important features – in order – include Q2 (age), Q7 (industry), Q6 (job title), Q5 (undergraduate major), Q10 (whether their employer uses machine learning methods), and Q4 (highest level of formal education). After these features, there is a noticable drop in feature importance for the remaining features."
   ]
  },
  {
   "cell_type": "markdown",
   "metadata": {},
   "source": [
    "Next, I am going to visualize the number of respondents from each country."
   ]
  },
  {
   "cell_type": "code",
   "execution_count": 26,
   "metadata": {},
   "outputs": [
    {
     "data": {
      "image/png": "[encoded data removed]",
      "text/plain": [
       "<Figure size 792x504 with 1 Axes>"
      ]
     },
     "metadata": {},
     "output_type": "display_data"
    }
   ],
   "source": [
    "# Plot value_count of number of different countries in Q3 column\n",
    "df['Q3'] = df['Q3'].replace('United Kingdom of Great Britain and Northern Ireland', 'United Kingdom') # Replace long name\n",
    "country_count  = df['Q3'].value_counts(sort = True)\n",
    "plt.figure(figsize=(11,7))\n",
    "plt.bar(country_count.index, country_count.values, alpha=0.8, color = 'green')\n",
    "plt.title('Distribution of Countries', fontsize = 18)\n",
    "plt.ylabel('Number of Respondents', fontsize=14)\n",
    "plt.xlabel('Country', fontsize=14)\n",
    "plt.xticks(rotation='vertical')\n",
    "plt.show()"
   ]
  },
  {
   "cell_type": "markdown",
   "metadata": {},
   "source": [
    "We can see that the USA has, by a significant margin, the most respondents. India comes in second, and then there is another aignificant drop in the number of respondents, with China taking third place. Canada occupies a fairly high position in this graph, considering its relatively low population size. It appears that this country has a disproportionate interest in Data Science!"
   ]
  },
  {
   "cell_type": "markdown",
   "metadata": {},
   "source": [
    "Let's dig a little bit depper into the different salaries for each country."
   ]
  },
  {
   "cell_type": "code",
   "execution_count": 27,
   "metadata": {},
   "outputs": [
    {
     "name": "stdout",
     "output_type": "stream",
     "text": [
      "Average salary in United States of America: $99687.26005273566\n",
      "Average salary in India: $22520.444\n",
      "Average salary in China: $22853.99172413793\n",
      "Average salary in Other: $27532.781456953642\n",
      "Average salary in Russia: $24022.43295019157\n",
      "Average salary in Brazil: $27938.81930184805\n",
      "Average salary in United Kingdom: $65657.6225165563\n",
      "Average salary in Germany: $58992.66292134832\n",
      "Average salary in Canada: $69704.63239074551\n",
      "Average salary in France: $52728.41176470588\n",
      "Average salary in Japan: $59090.86956521739\n",
      "Average salary in Spain: $38803.118380062304\n",
      "Average salary in Italy: $36629.8371040724\n",
      "Average salary in Australia: $88538.0193236715\n",
      "Average salary in Poland: $29863.072538860102\n",
      "Average salary in Netherlands: $59867.19337016575\n",
      "Average salary in Turkey: $16503.651898734177\n",
      "Average salary in Ukraine: $24168.62328767123\n",
      "Average salary in Mexico: $28995.364285714284\n",
      "Average salary in Singapore: $59356.925619834714\n",
      "Average salary in I do not wish to disclose my location: $41766.77777777778\n",
      "Average salary in Nigeria: $9418.73275862069\n",
      "Average salary in Sweden: $60409.8125\n",
      "Average salary in Israel: $88491.45945945945\n",
      "Average salary in South Africa: $38869.932692307695\n",
      "Average salary in Switzerland: $102662.62745098039\n",
      "Average salary in South Korea: $46533.65306122449\n",
      "Average salary in Portugal: $25629.107526881722\n",
      "Average salary in Indonesia: $16756.61111111111\n",
      "Average salary in Colombia: $26885.32222222222\n",
      "Average salary in Argentina: $25834.38202247191\n",
      "Average salary in Viet Nam: $12818.493827160493\n",
      "Average salary in Pakistan: $17022.6375\n",
      "Average salary in Denmark: $72500.44155844155\n",
      "Average salary in Greece: $19523.420289855072\n",
      "Average salary in Malaysia: $18922.941176470587\n",
      "Average salary in Ireland: $68823.8870967742\n",
      "Average salary in Belgium: $52635.06451612903\n",
      "Average salary in Hungary: $31704.033898305086\n",
      "Average salary in Belarus: $22812.603448275862\n",
      "Average salary in Chile: $40502.59259259259\n",
      "Average salary in Egypt: $12755.653846153846\n",
      "Average salary in Norway: $70599.74509803922\n",
      "Average salary in Iran, Islamic Republic of...: $12435.36\n",
      "Average salary in Kenya: $36290.36734693877\n",
      "Average salary in Peru: $17831.104166666668\n",
      "Average salary in Bangladesh: $14824.583333333334\n",
      "Average salary in Finland: $49112.51063829787\n",
      "Average salary in Philippines: $25350.239130434784\n",
      "Average salary in New Zealand: $55764.13333333333\n",
      "Average salary in Romania: $22751.522727272728\n",
      "Average salary in Czech Republic: $33369.48780487805\n",
      "Average salary in Thailand: $29623.5\n",
      "Average salary in Hong Kong (S.A.R.): $75905.22857142857\n",
      "Average salary in Republic of Korea: $60705.470588235294\n",
      "Average salary in Austria: $48789.5\n",
      "Average salary in Morocco: $16034.333333333334\n",
      "Average salary in Tunisia: $19254.185185185186\n"
     ]
    }
   ],
   "source": [
    "for country in country_count.index.tolist():\n",
    "    print('Average salary in ' + country + ': $' + str(df[df['Q3']==country]['Q9'].mean()))"
   ]
  },
  {
   "cell_type": "markdown",
   "metadata": {},
   "source": [
    "The code above further clarifies that average salaries vary widely dependent on the country of the respondents – salaries in the US and India are around \\$98,000 and \\$23,000 respectively, which is a really staggering difference. This is aligned with the results from feature importances, which showed that a respondent's country is the most important factor in predicting their salary. \n",
    "\n",
    "As such, it is more interesting to look at salaries through the lens of a specific country. Let's create a new DataFrame containing only datapoints for respondents from the USA, and visualize the distribution of salaries."
   ]
  },
  {
   "cell_type": "code",
   "execution_count": 28,
   "metadata": {},
   "outputs": [],
   "source": [
    "# Create new DataFrame filtering information only from US respondents\n",
    "df_usa = df[df['Q3'] == 'United States of America']"
   ]
  },
  {
   "cell_type": "code",
   "execution_count": 29,
   "metadata": {},
   "outputs": [
    {
     "name": "stderr",
     "output_type": "stream",
     "text": [
      "/anaconda3/lib/python3.6/site-packages/scipy/stats/stats.py:1713: FutureWarning: Using a non-tuple sequence for multidimensional indexing is deprecated; use `arr[tuple(seq)]` instead of `arr[seq]`. In the future this will be interpreted as an array index, `arr[np.array(seq)]`, which will result either in an error or a different result.\n",
      "  return np.add.reduce(sorted[indexer] * weights, axis=axis) / sumval\n",
      "/anaconda3/lib/python3.6/site-packages/matplotlib/axes/_axes.py:6462: UserWarning: The 'normed' kwarg is deprecated, and has been replaced by the 'density' kwarg.\n",
      "  warnings.warn(\"The 'normed' kwarg is deprecated, and has been \"\n"
     ]
    },
    {
     "data": {
      "text/plain": [
       "<matplotlib.axes._subplots.AxesSubplot at 0x1a126ecb70>"
      ]
     },
     "execution_count": 29,
     "metadata": {},
     "output_type": "execute_result"
    },
    {
     "data": {
      "image/png": "[encoded data removed]",
      "text/plain": [
       "<Figure size 792x504 with 1 Axes>"
      ]
     },
     "metadata": {},
     "output_type": "display_data"
    }
   ],
   "source": [
    "fig, ax = plt.subplots(figsize=(11,7))\n",
    "plt.xlim(0,df_usa.Q9.max())\n",
    "plt.title('Distribution of Salaries for USA Respondents')\n",
    "plt.ylabel('Probability')\n",
    "sns.distplot(ax = ax, a = df_usa['Q9'], axlabel='Salary')"
   ]
  },
  {
   "cell_type": "markdown",
   "metadata": {},
   "source": [
    "The large number of salaries near zero reflects the many students that completed the survey. These respondents likely do not earn a yearly compensation yet. Apart from this, the salaries are distributed as you might expect; the majority of respondents have a salary near the mean value, and only a small number of people have a very high salary (>$250,000)."
   ]
  },
  {
   "cell_type": "markdown",
   "metadata": {},
   "source": [
    "The gender pay-gap is a highly controversial topic; let's see what the Kaggle salary data has to say about this:"
   ]
  },
  {
   "cell_type": "code",
   "execution_count": 30,
   "metadata": {},
   "outputs": [
    {
     "data": {
      "text/plain": [
       "<matplotlib.legend.Legend at 0x1a17f7acc0>"
      ]
     },
     "execution_count": 30,
     "metadata": {},
     "output_type": "execute_result"
    },
    {
     "data": {
      "image/png": "[encoded data removed]",
      "text/plain": [
       "<Figure size 792x504 with 1 Axes>"
      ]
     },
     "metadata": {},
     "output_type": "display_data"
    }
   ],
   "source": [
    "# Create DataFrame of average salaries by gender (only Male and Female)\n",
    "gender_df = df_usa[df_usa['Q1'].isin(['Male', 'Female'])].pivot_table(values='Q9',index='Q2',columns='Q1')\n",
    "\n",
    "# Create barplot\n",
    "ax = gender_df.plot.bar(figsize = (11,7), rot = 0)\n",
    "ax.set_title('Average Salary by Gender and Age Group (USA)', fontsize = 16)\n",
    "ax.set_ylabel('Average Salary ($)', fontsize = 14)\n",
    "ax.set_xlabel('Age Group', fontsize = 14)\n",
    "ax.legend(['Female', 'Male'])"
   ]
  },
  {
   "cell_type": "markdown",
   "metadata": {},
   "source": [
    "The plot above shows that there is indeed a significant gender pay gap for respondents in the Kaggle community; men earn more (on average) in every age group. This shows that gender is indeed useful in predicting the yearly compensation of the usrvey respondents. Noticeably, the gap generally increases with age group. The gap makes a significant leap at some point between ages 25 and 34, however the gap for 55-59 year olds almost closes. It is important to note that there were far more male respondents in total, and there were no female respondents from the USA aged over 70 (as can be seen from the chart). This means that the data does not provide a robust representation of gender pay differences, but it is still an interesting comparison!"
   ]
  },
  {
   "cell_type": "markdown",
   "metadata": {},
   "source": [
    "# Feature Selection"
   ]
  },
  {
   "cell_type": "markdown",
   "metadata": {},
   "source": [
    "Broadly speaking, feature engineering is the process of transforming raw data into features that can be used to as inputs for machine learning models. Features typically take the form of a column in a dataset. Needless to say, selecting high quality features is key to building a model that can generalise to unseen data. Selecting the right features is arguably the most important part of building a high-performing model. Feature engineering is where human-insight can be used to ensure that the model is provided with data that contains relevant indicators – in an appropriate format – to enable the model to learn the underlying patterns. Features can be inherent or derived. Derived features are 'engineered' through the application of some operation to raw data – this is also known as feature extraction.\n",
    "\n",
    "Feature selection is the process of selecting a subset of relevant features to feed into a machine learning model. There are several benefits to feature selection including: (1) preventing overfitting and therfore enhancing the ability of the model generalise, (2) shorter training times, (3) making models easier to interpet, (4) avoiding the 'curse of dimensionality' (caused by a very large number of dimensions). Feature selection involves the removal of those features that are deemed irreelevant in the presence of other (more important) features.\n",
    "\n",
    "To perform feature selection, I am going to use the model importances calculated by the Random Forest Classifier used previously."
   ]
  },
  {
   "cell_type": "code",
   "execution_count": 31,
   "metadata": {},
   "outputs": [],
   "source": [
    "from sklearn.feature_selection import SelectFromModel"
   ]
  },
  {
   "cell_type": "code",
   "execution_count": 32,
   "metadata": {},
   "outputs": [],
   "source": [
    "# Pass prefit Random forest classifier (used to generate feature importances) into SelectFromModel Metatransformer\n",
    "model_select = SelectFromModel(model_importances, prefit = True)"
   ]
  },
  {
   "cell_type": "code",
   "execution_count": 33,
   "metadata": {},
   "outputs": [],
   "source": [
    "# Output column names of selected features.\n",
    "features = df_enc.columns[model_select.get_support()]"
   ]
  },
  {
   "cell_type": "code",
   "execution_count": 34,
   "metadata": {},
   "outputs": [
    {
     "data": {
      "text/plain": [
       "142"
      ]
     },
     "execution_count": 34,
     "metadata": {},
     "output_type": "execute_result"
    }
   ],
   "source": [
    "len(features.tolist())"
   ]
  },
  {
   "cell_type": "markdown",
   "metadata": {},
   "source": [
    "The threshold of feature importances was set to the default value, meaning that all features with an importance score above the mean score were selected. This threshold value was chosen through trial and error to see how the number of features selected affected the accuracy of the various regression models. Setting a different threshold value lead to a decrease in accuracy – this is my justification for selecting 142 features. The line above shows that this algorithm has selected 142 features; there are 142 features with an importance score above the mean score value."
   ]
  },
  {
   "cell_type": "code",
   "execution_count": 35,
   "metadata": {},
   "outputs": [],
   "source": [
    "# Change encoded dataframe to a subset of (142) columns for the selected features\n",
    "df_enc = df_enc[features]"
   ]
  },
  {
   "cell_type": "markdown",
   "metadata": {},
   "source": [
    "Below is the code that I used to apply PCA dimensionality reduction to the 'one-hot' encoded DataFrame. Since 'one-hot' encoding was not used, I have commented this code out."
   ]
  },
  {
   "cell_type": "code",
   "execution_count": 36,
   "metadata": {},
   "outputs": [],
   "source": [
    "# from sklearn.decomposition import PCA\n",
    "\n",
    "#pca = PCA(n_components = 0.9) # n_components set to 0.9 so that No. of components explains 90% of variance\n",
    "\n",
    "#pca.fit(X)\n",
    "#X_pca = pca.transform(X)\n",
    "#print('PCA has reduced the dimensionality of the features from ' +  str(X.shape) + ' to ' + str(X_pca.shape))\n",
    "\n",
    "# NB: can use n_components as a hyperparameter for each model"
   ]
  },
  {
   "cell_type": "markdown",
   "metadata": {},
   "source": [
    "# Model Implementation"
   ]
  },
  {
   "cell_type": "markdown",
   "metadata": {},
   "source": [
    "Havings cleaned tha data, and selected the features to use, it is time to actually implement the various regression algorithms that I have chosen on the training data. Firstly, I wil briefly summarize each chosen algorithm:\n",
    "\n",
    "The first algorithm I have chosen is linear regression with Lasso regularization. Linear regression fits a linear equation ($y = \\beta_1 x_1 + \\beta_2 x_2 + \\beta_3 x_3 ... + \\beta_n x_n$) to the data, and uses the ordinary least squares method to minimze the error in the fit, to determine the coefficients for each variable. Lasso regression performs L1 regularization by adding an L1 penalty term to the absolute value of the magnitude of the coefficients. This reduces the size of the coefficients obtained, reducing some coefficients to zero. This means it prevents overfitting by reducing model complexity, and selecting a subset of features to be used. This means Lasso regression will be doig further feature selection. Some cons of Lasso regression are that linear regression models are relatively simple (and often out-performed by other models), and Lasso regularization does not necessarily select the optimal subset of features (selection is purely statistically driven). Some advantages of Lasso/linear regression is that training times are relatively short, and it is easy to understand and apply. This simplicity is the reason I chose this algorithm; I was interested to see how it would fair against other more complex models.\n",
    "\n",
    "The second algorithm I have chosen to is a Decision Tree regressor. This builds a regression model in the form of a decision tree structure. It learns decision tree rules from the data to create a model to predict the target variable. It iteratively places the most informative features of dataset at the root of the tree, and splits the dataset into subsets to form the tree structure. Some disadvantages of decision tree regressors are that trees are prone to overfitting and therefore not generalising well, and small variations in data can result in very different trees being generated (instability). Some advantages are that they are relatively simple to understand/interpret, are good are handling categorical data, and generally require little data preparation prior to implementation. I chose to use a decision tree regressor because of its suitability for categorical data.\n",
    "\n",
    "The third algorithm I have chosen is Gradient Boosted Regression Trees. It produces a predictive model through an ensemble of weak predictors, building the model in a 'stage-wise' fashion. In each stage, a new regression tree is fit to the negative gradient of the loss function. One of the main advantages of this algorithm is its predictive power and robustness through robust loss functions). Some disadvantages include scalability issues, and relatively long traiing times, due to its 'stage-wise' nature. I chose this algorithm because of its predictive power; gradient boosted techniques often have high accuracies and out-perform other models.\n",
    "\n",
    "The fourth algorithm I have chosen is a Random Forest Regressor. This algorithm is a meta-estimator that fits decision trees on a range of sub-samples taken from the dataset, and uses averaging to limit over-fitting and enhance performance. Averaging in this way causes variance to decrease to produce a more accurate model. Some disadvantages are that it is prone to over-fitting (large number of trees or high tree depth), and relatively long traning times (especially if certain paramaters are not controlled). Advantages are that models often have high predictive power and accuracy; I chose this algorithm due to its high performance potential – I was particularly interested to see how it would perform relative to gradient boosted regression."
   ]
  },
  {
   "cell_type": "code",
   "execution_count": 37,
   "metadata": {},
   "outputs": [],
   "source": [
    "# Import modules for the chosen regression algorithms\n",
    "from sklearn import linear_model\n",
    "from sklearn.neighbors import KNeighborsRegressor\n",
    "from sklearn.tree import DecisionTreeRegressor\n",
    "from sklearn.ensemble import RandomForestRegressor\n",
    "from sklearn.ensemble import GradientBoostingRegressor\n",
    "\n",
    "# Import modules for cross-validation and accuracy scoring\n",
    "from sklearn.model_selection import cross_val_score\n",
    "from sklearn.metrics import mean_squared_error, r2_score, make_scorer, confusion_matrix"
   ]
  },
  {
   "cell_type": "code",
   "execution_count": 38,
   "metadata": {},
   "outputs": [],
   "source": [
    "# Import module to split data into training and testing sets\n",
    "from sklearn.model_selection import train_test_split"
   ]
  },
  {
   "cell_type": "code",
   "execution_count": 39,
   "metadata": {},
   "outputs": [],
   "source": [
    "# Set features to those selected, and target variable to salaries (column Q9)\n",
    "X = df_enc\n",
    "y = df['Q9']\n",
    "\n",
    "# 80% training data\n",
    "X_train, X_test, y_train, y_test = train_test_split(X, y, test_size=0.2, random_state=42) "
   ]
  },
  {
   "cell_type": "code",
   "execution_count": 40,
   "metadata": {},
   "outputs": [],
   "source": [
    "# Create list of chosen regression models\n",
    "regressors = [linear_model.Lasso(alpha=.5, random_state = 16),\n",
    "              DecisionTreeRegressor(random_state=16, max_depth=2),\n",
    "              GradientBoostingRegressor(random_state= 16),\n",
    "              RandomForestRegressor(random_state=16, n_estimators=10)]\n",
    "\n",
    "# List used for display purpouses (see below)\n",
    "reg_names = ['Lasso Regression', 'Decision Tree', 'Gradient Boosted Regression Trees', 'Random Forest']"
   ]
  },
  {
   "cell_type": "markdown",
   "metadata": {},
   "source": [
    "I have defined a function below to perform 10-fold cross-validation on a regression model. It evaluates the accuracy for each fold, and computes the mean and standard deviation across the folds. Note the I have used $R^{2}$ score (1 - Relative Squared Error) to evaluate accuracy. $R^{2}$ gives the proportion of variance in the target variable that is predictable from the data; it therefore provides a statistical measure of the fit of the data to a regression model. I could also have used Root Mean Squared Error (RMSE) to evaluate accuracy, but I have stuck to just $R^{2}$ score."
   ]
  },
  {
   "cell_type": "code",
   "execution_count": 41,
   "metadata": {},
   "outputs": [],
   "source": [
    "def implement(regressor):\n",
    "    \n",
    "    # Implement 10-fold cross-validation on the training data\n",
    "    scores = cross_val_score(regressor, X_train, y_train, cv=10, scoring = 'r2')\n",
    "    \n",
    "    # Fold counter\n",
    "    fold = 1\n",
    "    \n",
    "    # Loop through scores for folds then compute mean and standard deviation\n",
    "    for score in scores:\n",
    "        print('Fold {} accuracy = {}'.format(fold, score))\n",
    "        fold+=1\n",
    "        \n",
    "    print('Mean accuracy (r2) across folds =', scores.mean())\n",
    "    print('Standard deviation across folds =', np.std(scores))"
   ]
  },
  {
   "cell_type": "code",
   "execution_count": 42,
   "metadata": {},
   "outputs": [
    {
     "name": "stdout",
     "output_type": "stream",
     "text": [
      "\n",
      " Lasso Regression: \n",
      "\n",
      "Fold 1 accuracy = 0.3411690178564427\n",
      "Fold 2 accuracy = 0.33342258646615575\n",
      "Fold 3 accuracy = 0.3324184476093053\n",
      "Fold 4 accuracy = 0.3517083189071678\n",
      "Fold 5 accuracy = 0.29035078976113315\n",
      "Fold 6 accuracy = 0.33455028440859746\n",
      "Fold 7 accuracy = 0.3546596927758351\n",
      "Fold 8 accuracy = 0.3632170019616958\n",
      "Fold 9 accuracy = 0.3553721085901089\n",
      "Fold 10 accuracy = 0.3069318727026804\n",
      "Mean accuracy (r2) across folds = 0.3363800121039123\n",
      "Standard deviation across folds = 0.02164863166888365\n",
      "\n",
      " Decision Tree: \n",
      "\n",
      "Fold 1 accuracy = 0.2895488121852161\n",
      "Fold 2 accuracy = 0.2765223426106169\n",
      "Fold 3 accuracy = 0.3046254645618398\n",
      "Fold 4 accuracy = 0.30986607598574556\n",
      "Fold 5 accuracy = 0.23351463516369886\n",
      "Fold 6 accuracy = 0.2898557579436517\n",
      "Fold 7 accuracy = 0.28409640259709923\n",
      "Fold 8 accuracy = 0.29142001717669264\n",
      "Fold 9 accuracy = 0.28315603992426286\n",
      "Fold 10 accuracy = 0.24821538040770508\n",
      "Mean accuracy (r2) across folds = 0.2810820928556529\n",
      "Standard deviation across folds = 0.022395101497980446\n",
      "\n",
      " Gradient Boosted Regression Trees: \n",
      "\n",
      "Fold 1 accuracy = 0.5605617162047172\n",
      "Fold 2 accuracy = 0.5842830084681055\n",
      "Fold 3 accuracy = 0.562260313647322\n",
      "Fold 4 accuracy = 0.5893920614934942\n",
      "Fold 5 accuracy = 0.467624065857855\n",
      "Fold 6 accuracy = 0.5319056797506446\n",
      "Fold 7 accuracy = 0.5604872466798339\n",
      "Fold 8 accuracy = 0.5943727327838897\n",
      "Fold 9 accuracy = 0.5815346311666962\n",
      "Fold 10 accuracy = 0.48952781837767756\n",
      "Mean accuracy (r2) across folds = 0.5521949274430236\n",
      "Standard deviation across folds = 0.04096850702081279\n",
      "\n",
      " Random Forest: \n",
      "\n",
      "Fold 1 accuracy = 0.5183574467195774\n",
      "Fold 2 accuracy = 0.5638932433033517\n",
      "Fold 3 accuracy = 0.44112856674783485\n",
      "Fold 4 accuracy = 0.6228243733447324\n",
      "Fold 5 accuracy = 0.46980189159326446\n",
      "Fold 6 accuracy = 0.3833259743619877\n",
      "Fold 7 accuracy = 0.5228970463649324\n",
      "Fold 8 accuracy = 0.6533348690401162\n",
      "Fold 9 accuracy = 0.5714792975139232\n",
      "Fold 10 accuracy = 0.5200668463075032\n",
      "Mean accuracy (r2) across folds = 0.5267109555297224\n",
      "Standard deviation across folds = 0.07740080256495444\n"
     ]
    }
   ],
   "source": [
    "# Loop through regressors, applying the above function\n",
    "for name, regressor in zip(reg_names, regressors):\n",
    "    \n",
    "    print('\\n {}: \\n'.format(name))\n",
    "    \n",
    "    implement(regressor)"
   ]
  },
  {
   "cell_type": "markdown",
   "metadata": {},
   "source": [
    "It can be seen that, atleast prior to hyperparameter tuning, the Gradient Boosted Regression Trees performed best (highest $R^2$ score).\n",
    "\n",
    "Let's analyze why this occured from the perspective of the bias-variance trade-off. The high performance of this model is mainly due to its low bias; it can be seen that the standard deviation (and therefore variance) across the folds was higher than for Lasso Regression and Decision Tree models. This is as expected, since gradient boosted methods generally decrease error by reducing bias – through the aggregation of the output of many models. Conversely, the Random Forest regressor had both a higher bias and higher variance."
   ]
  },
  {
   "cell_type": "markdown",
   "metadata": {},
   "source": [
    "# Model Tuning"
   ]
  },
  {
   "cell_type": "markdown",
   "metadata": {},
   "source": [
    "Having implemented the various regression models, it is time to try and optimize their performance using hyperparameter tuning. To tune the hyperparameters of each model, I am going to use a randomized grid search method. Grid search works by conducting an exhausitve search through all combinations of the various hyperparamaters (all the combinations can be thought of as a 'grid'), to see which combination performs best on a given metric (I will use $R^2$ score again). It can be viewed as a 'trial and error' process to find the optimal parameter values. Randomized grid search works on the same principle, however instead of conducting an exhaustive search, a randomized search is done over a fixed number of hyperparameter values, over the specified distribution. This has the effect of significantly reducing run-time."
   ]
  },
  {
   "cell_type": "code",
   "execution_count": 43,
   "metadata": {},
   "outputs": [],
   "source": [
    "from sklearn.model_selection import RandomizedSearchCV"
   ]
  },
  {
   "cell_type": "code",
   "execution_count": 44,
   "metadata": {},
   "outputs": [],
   "source": [
    "# Function to tune hyperparameters using grid search \n",
    "def grid_search(regressor, hyperparameters, score_type, random_state = 4):\n",
    "    \n",
    "    # Set accuracy scorer (r2 or MSE)\n",
    "    scorer = make_scorer(score_type)\n",
    "\n",
    "    # Pass model into (Randomized) cross-validated grid search\n",
    "    grid_model = RandomizedSearchCV(regressor, hyperparameters, scoring = scorer)\n",
    "\n",
    "    # Fit to (training) data\n",
    "    grid_model = grid_model.fit(X_train, y_train)\n",
    "\n",
    "    # Select optimal paramaters\n",
    "    optimal_paramaters = grid_model.best_estimator_\n",
    "    \n",
    "    return(optimal_paramaters)"
   ]
  },
  {
   "cell_type": "markdown",
   "metadata": {},
   "source": [
    "First let's tune the hyperparameters for Lasso Regression. The two parameters I will tune here are the value for $\\alpha$ (L1 regularization term), and whether to normalize or not."
   ]
  },
  {
   "cell_type": "code",
   "execution_count": 45,
   "metadata": {},
   "outputs": [],
   "source": [
    "# Create dictionary of hyperparameters for Lasso regression\n",
    "\n",
    "lasso_params = {'alpha':[0.5,1,2,3,5], # L1 Regularization term\n",
    "             'normalize':[True,False]} # Boolean: whether to normalize; default (as above) was False"
   ]
  },
  {
   "cell_type": "code",
   "execution_count": 46,
   "metadata": {},
   "outputs": [
    {
     "name": "stderr",
     "output_type": "stream",
     "text": [
      "/anaconda3/lib/python3.6/site-packages/sklearn/model_selection/_split.py:1943: FutureWarning: You should specify a value for 'cv' instead of relying on the default value. The default value will change from 3 to 5 in version 0.22.\n",
      "  warnings.warn(CV_WARNING, FutureWarning)\n"
     ]
    }
   ],
   "source": [
    "# Run grid search function on lasso regression model (zeroth index of regressors list), using r2 score\n",
    "lasso_optimal_params = grid_search(regressors[0], lasso_params, r2_score)"
   ]
  },
  {
   "cell_type": "code",
   "execution_count": 47,
   "metadata": {},
   "outputs": [
    {
     "data": {
      "text/plain": [
       "Lasso(alpha=3, copy_X=True, fit_intercept=True, max_iter=1000, normalize=True,\n",
       "   positive=False, precompute=False, random_state=16, selection='cyclic',\n",
       "   tol=0.0001, warm_start=False)"
      ]
     },
     "execution_count": 47,
     "metadata": {},
     "output_type": "execute_result"
    }
   ],
   "source": [
    "# Print optimal hyperparameters: alpha = 3, normalize = True\n",
    "lasso_optimal_params"
   ]
  },
  {
   "cell_type": "code",
   "execution_count": 48,
   "metadata": {},
   "outputs": [
    {
     "data": {
      "text/plain": [
       "Lasso(alpha=3, copy_X=True, fit_intercept=True, max_iter=1000, normalize=True,\n",
       "   positive=False, precompute=False, random_state=16, selection='cyclic',\n",
       "   tol=0.0001, warm_start=False)"
      ]
     },
     "execution_count": 48,
     "metadata": {},
     "output_type": "execute_result"
    }
   ],
   "source": [
    "# Pass optimal hyperparameters into model (requires unpacking dictionary of parameters)\n",
    "regressors[0].set_params(**lasso_optimal_params.get_params())"
   ]
  },
  {
   "cell_type": "markdown",
   "metadata": {},
   "source": [
    "Next, I will tune the hyperparameters for the Decision Tree model. All of the hyperparameters are related to the size/shape of the tree."
   ]
  },
  {
   "cell_type": "code",
   "execution_count": 49,
   "metadata": {},
   "outputs": [],
   "source": [
    "# Create dictionary of hyperparameters for Decision Tree\n",
    "\n",
    "dt_params = {'max_depth':list(np.linspace(1,10, endpoint = True)), # Try depths for all integers between 1 and 10\n",
    "             'min_samples_split':[2,3,5],\n",
    "            'max_features':[50,75,106]} # Vary max features from 50 to 142 (max)"
   ]
  },
  {
   "cell_type": "code",
   "execution_count": 50,
   "metadata": {},
   "outputs": [
    {
     "name": "stderr",
     "output_type": "stream",
     "text": [
      "/anaconda3/lib/python3.6/site-packages/sklearn/model_selection/_split.py:1943: FutureWarning: You should specify a value for 'cv' instead of relying on the default value. The default value will change from 3 to 5 in version 0.22.\n",
      "  warnings.warn(CV_WARNING, FutureWarning)\n"
     ]
    }
   ],
   "source": [
    "# Run grid search function on Decision tree regression model (first index of regressors list), using r2 score\n",
    "dt_optimal_params = grid_search(regressors[1], dt_params, r2_score)"
   ]
  },
  {
   "cell_type": "code",
   "execution_count": 51,
   "metadata": {},
   "outputs": [
    {
     "data": {
      "text/plain": [
       "DecisionTreeRegressor(criterion='mse', max_depth=5.040816326530613,\n",
       "           max_features=106, max_leaf_nodes=None,\n",
       "           min_impurity_decrease=0.0, min_impurity_split=None,\n",
       "           min_samples_leaf=1, min_samples_split=3,\n",
       "           min_weight_fraction_leaf=0.0, presort=False, random_state=16,\n",
       "           splitter='best')"
      ]
     },
     "execution_count": 51,
     "metadata": {},
     "output_type": "execute_result"
    }
   ],
   "source": [
    "# Print optimal hyperparameters\n",
    "dt_optimal_params"
   ]
  },
  {
   "cell_type": "code",
   "execution_count": 52,
   "metadata": {},
   "outputs": [
    {
     "data": {
      "text/plain": [
       "DecisionTreeRegressor(criterion='mse', max_depth=5.040816326530613,\n",
       "           max_features=106, max_leaf_nodes=None,\n",
       "           min_impurity_decrease=0.0, min_impurity_split=None,\n",
       "           min_samples_leaf=1, min_samples_split=3,\n",
       "           min_weight_fraction_leaf=0.0, presort=False, random_state=16,\n",
       "           splitter='best')"
      ]
     },
     "execution_count": 52,
     "metadata": {},
     "output_type": "execute_result"
    }
   ],
   "source": [
    "# Pass optimal hyperparameters into model (requires unpacking dictionary of parameters)\n",
    "regressors[1].set_params(**dt_optimal_params.get_params())"
   ]
  },
  {
   "cell_type": "code",
   "execution_count": 53,
   "metadata": {},
   "outputs": [],
   "source": [
    "# NB: more hyperparameter values were tried, but they have not been included here due to run time\n",
    "gb_params = {'max_depth':[5,8],\n",
    "             'min_samples_split':[2,4],\n",
    "            'max_features':[10, 75],\n",
    "            'n_estimators':[50, 100, 200],\n",
    "            'min_samples_leaf':[1,5]}"
   ]
  },
  {
   "cell_type": "code",
   "execution_count": 54,
   "metadata": {},
   "outputs": [
    {
     "name": "stderr",
     "output_type": "stream",
     "text": [
      "/anaconda3/lib/python3.6/site-packages/sklearn/model_selection/_split.py:1943: FutureWarning: You should specify a value for 'cv' instead of relying on the default value. The default value will change from 3 to 5 in version 0.22.\n",
      "  warnings.warn(CV_WARNING, FutureWarning)\n"
     ]
    }
   ],
   "source": [
    "# Run grid search function on gradient boosted model (second index of regressors list), using r2 score\n",
    "gb_optimal_params = grid_search(regressors[2], gb_params, r2_score)"
   ]
  },
  {
   "cell_type": "code",
   "execution_count": 55,
   "metadata": {},
   "outputs": [
    {
     "data": {
      "text/plain": [
       "GradientBoostingRegressor(alpha=0.9, criterion='friedman_mse', init=None,\n",
       "             learning_rate=0.1, loss='ls', max_depth=5, max_features=75,\n",
       "             max_leaf_nodes=None, min_impurity_decrease=0.0,\n",
       "             min_impurity_split=None, min_samples_leaf=5,\n",
       "             min_samples_split=2, min_weight_fraction_leaf=0.0,\n",
       "             n_estimators=200, n_iter_no_change=None, presort='auto',\n",
       "             random_state=16, subsample=1.0, tol=0.0001,\n",
       "             validation_fraction=0.1, verbose=0, warm_start=False)"
      ]
     },
     "execution_count": 55,
     "metadata": {},
     "output_type": "execute_result"
    }
   ],
   "source": [
    "# Print optimal hyperparameters\n",
    "gb_optimal_params"
   ]
  },
  {
   "cell_type": "code",
   "execution_count": 56,
   "metadata": {},
   "outputs": [
    {
     "data": {
      "text/plain": [
       "GradientBoostingRegressor(alpha=0.9, criterion='friedman_mse', init=None,\n",
       "             learning_rate=0.1, loss='ls', max_depth=5, max_features=75,\n",
       "             max_leaf_nodes=None, min_impurity_decrease=0.0,\n",
       "             min_impurity_split=None, min_samples_leaf=5,\n",
       "             min_samples_split=2, min_weight_fraction_leaf=0.0,\n",
       "             n_estimators=200, n_iter_no_change=None, presort='auto',\n",
       "             random_state=16, subsample=1.0, tol=0.0001,\n",
       "             validation_fraction=0.1, verbose=0, warm_start=False)"
      ]
     },
     "execution_count": 56,
     "metadata": {},
     "output_type": "execute_result"
    }
   ],
   "source": [
    "# Pass optimal hyperparameters into model (requires unpacking dictionary of parameters)\n",
    "regressors[2].set_params(**gb_optimal_params.get_params())"
   ]
  },
  {
   "cell_type": "markdown",
   "metadata": {},
   "source": [
    "Can see an increase in accuracy for gb regressor of about X. "
   ]
  },
  {
   "cell_type": "code",
   "execution_count": 57,
   "metadata": {},
   "outputs": [],
   "source": [
    "# More hyperparameter values were tried, but they have not been included here due to computation speed\n",
    "rf_params = {'max_depth':[5,8],\n",
    "             'min_samples_split':[2,4],\n",
    "            'max_features':[75, 100],\n",
    "            'n_estimators':[10, 100],\n",
    "            'min_samples_leaf':[1,5]}"
   ]
  },
  {
   "cell_type": "code",
   "execution_count": 58,
   "metadata": {},
   "outputs": [
    {
     "name": "stderr",
     "output_type": "stream",
     "text": [
      "/anaconda3/lib/python3.6/site-packages/sklearn/model_selection/_split.py:1943: FutureWarning: You should specify a value for 'cv' instead of relying on the default value. The default value will change from 3 to 5 in version 0.22.\n",
      "  warnings.warn(CV_WARNING, FutureWarning)\n"
     ]
    }
   ],
   "source": [
    "# Run grid search function on random forest model (third index of regressors list), using r2 score\n",
    "rf_optimal_params = grid_search(regressors[3], rf_params, r2_score)"
   ]
  },
  {
   "cell_type": "code",
   "execution_count": 59,
   "metadata": {},
   "outputs": [
    {
     "data": {
      "text/plain": [
       "RandomForestRegressor(bootstrap=True, criterion='mse', max_depth=8,\n",
       "           max_features=100, max_leaf_nodes=None,\n",
       "           min_impurity_decrease=0.0, min_impurity_split=None,\n",
       "           min_samples_leaf=1, min_samples_split=4,\n",
       "           min_weight_fraction_leaf=0.0, n_estimators=100, n_jobs=None,\n",
       "           oob_score=False, random_state=16, verbose=0, warm_start=False)"
      ]
     },
     "execution_count": 59,
     "metadata": {},
     "output_type": "execute_result"
    }
   ],
   "source": [
    "# Print optimal hyperparameters\n",
    "rf_optimal_params"
   ]
  },
  {
   "cell_type": "code",
   "execution_count": 60,
   "metadata": {},
   "outputs": [
    {
     "data": {
      "text/plain": [
       "RandomForestRegressor(bootstrap=True, criterion='mse', max_depth=8,\n",
       "           max_features=100, max_leaf_nodes=None,\n",
       "           min_impurity_decrease=0.0, min_impurity_split=None,\n",
       "           min_samples_leaf=1, min_samples_split=4,\n",
       "           min_weight_fraction_leaf=0.0, n_estimators=100, n_jobs=None,\n",
       "           oob_score=False, random_state=16, verbose=0, warm_start=False)"
      ]
     },
     "execution_count": 60,
     "metadata": {},
     "output_type": "execute_result"
    }
   ],
   "source": [
    "# Pass optimal hyperparameters into model (requires unpacking dictionary of parameters)\n",
    "regressors[3].set_params(**rf_optimal_params.get_params())"
   ]
  },
  {
   "cell_type": "markdown",
   "metadata": {},
   "source": [
    "Now let's run cross-validation using the same function as before, but with the new hyperparameter values for each model."
   ]
  },
  {
   "cell_type": "code",
   "execution_count": 61,
   "metadata": {},
   "outputs": [
    {
     "name": "stdout",
     "output_type": "stream",
     "text": [
      "\n",
      " Lasso Regression: \n",
      "\n",
      "Fold 1 accuracy = 0.34328286322967283\n",
      "Fold 2 accuracy = 0.337133174194421\n",
      "Fold 3 accuracy = 0.33870609535549046\n",
      "Fold 4 accuracy = 0.3553903102019451\n",
      "Fold 5 accuracy = 0.29029004030773264\n",
      "Fold 6 accuracy = 0.3457756892729712\n",
      "Fold 7 accuracy = 0.35149654320722934\n",
      "Fold 8 accuracy = 0.36091798942101205\n",
      "Fold 9 accuracy = 0.35530949167796266\n",
      "Fold 10 accuracy = 0.30439879811479387\n",
      "Mean accuracy (r2) across folds = 0.3382700994983231\n",
      "Standard deviation across folds = 0.02191712512738673\n",
      "\n",
      " Decision Tree: \n",
      "\n",
      "Fold 1 accuracy = 0.3952483125873463\n",
      "Fold 2 accuracy = 0.4264763994195555\n",
      "Fold 3 accuracy = 0.42524729030391384\n",
      "Fold 4 accuracy = 0.588812123704081\n",
      "Fold 5 accuracy = 0.3202569300518996\n",
      "Fold 6 accuracy = 0.27573591380373974\n",
      "Fold 7 accuracy = 0.37165835073147346\n",
      "Fold 8 accuracy = 0.4997603323705262\n",
      "Fold 9 accuracy = 0.42919518198858264\n",
      "Fold 10 accuracy = 0.312985700776789\n",
      "Mean accuracy (r2) across folds = 0.40453765357379073\n",
      "Standard deviation across folds = 0.08819572508166115\n",
      "\n",
      " Gradient Boosted Regression Trees: \n",
      "\n",
      "Fold 1 accuracy = 0.6264005357026479\n",
      "Fold 2 accuracy = 0.6329146678682773\n",
      "Fold 3 accuracy = 0.6261708989083301\n",
      "Fold 4 accuracy = 0.7169053409390891\n",
      "Fold 5 accuracy = 0.603168097577417\n",
      "Fold 6 accuracy = 0.5880668392012961\n",
      "Fold 7 accuracy = 0.6695647158290006\n",
      "Fold 8 accuracy = 0.6915319016751622\n",
      "Fold 9 accuracy = 0.6726219535275861\n",
      "Fold 10 accuracy = 0.6511176133515328\n",
      "Mean accuracy (r2) across folds = 0.6478462564580341\n",
      "Standard deviation across folds = 0.03807391518613442\n",
      "\n",
      " Random Forest: \n",
      "\n",
      "Fold 1 accuracy = 0.5585339016063671\n",
      "Fold 2 accuracy = 0.5683801694123003\n",
      "Fold 3 accuracy = 0.5329153353562395\n",
      "Fold 4 accuracy = 0.6613057611382882\n",
      "Fold 5 accuracy = 0.47679125516696863\n",
      "Fold 6 accuracy = 0.5077076847668982\n",
      "Fold 7 accuracy = 0.5611816834296373\n",
      "Fold 8 accuracy = 0.6254440002691289\n",
      "Fold 9 accuracy = 0.57605074401907\n",
      "Fold 10 accuracy = 0.5126809799002672\n",
      "Mean accuracy (r2) across folds = 0.5580991515065166\n",
      "Standard deviation across folds = 0.0524136354162203\n"
     ]
    }
   ],
   "source": [
    "for name, regressor in zip(reg_names, regressors):\n",
    "    \n",
    "    print('\\n {}: \\n'.format(name))\n",
    "    \n",
    "    implement(regressor)"
   ]
  },
  {
   "cell_type": "markdown",
   "metadata": {},
   "source": [
    "It is apparent that all of the models increased in accuracy after tuning. The imrpovement for Lasso regression was negligible, while the improvement for the other three (tree-based) models was significant. This shows that the initial parameters for the trees in these models were far from optimal. Gradient boosted regression trees remains the best performing, and so this is my chosen model."
   ]
  },
  {
   "cell_type": "markdown",
   "metadata": {},
   "source": [
    "# Testing and Discussion"
   ]
  },
  {
   "cell_type": "code",
   "execution_count": 62,
   "metadata": {},
   "outputs": [],
   "source": [
    "# Set optimal model to gradient boosted regression trees (second index of regressors list)\n",
    "optimal_model = regressors[2]"
   ]
  },
  {
   "cell_type": "code",
   "execution_count": 63,
   "metadata": {},
   "outputs": [
    {
     "data": {
      "text/plain": [
       "GradientBoostingRegressor(alpha=0.9, criterion='friedman_mse', init=None,\n",
       "             learning_rate=0.1, loss='ls', max_depth=5, max_features=75,\n",
       "             max_leaf_nodes=None, min_impurity_decrease=0.0,\n",
       "             min_impurity_split=None, min_samples_leaf=5,\n",
       "             min_samples_split=2, min_weight_fraction_leaf=0.0,\n",
       "             n_estimators=200, n_iter_no_change=None, presort='auto',\n",
       "             random_state=16, subsample=1.0, tol=0.0001,\n",
       "             validation_fraction=0.1, verbose=0, warm_start=False)"
      ]
     },
     "execution_count": 63,
     "metadata": {},
     "output_type": "execute_result"
    }
   ],
   "source": [
    "# Fit to training data\n",
    "optimal_model.fit(X_train, y_train)"
   ]
  },
  {
   "cell_type": "code",
   "execution_count": 64,
   "metadata": {},
   "outputs": [
    {
     "data": {
      "text/plain": [
       "0.6358875793499996"
      ]
     },
     "execution_count": 64,
     "metadata": {},
     "output_type": "execute_result"
    }
   ],
   "source": [
    "# Evaluate model using testing data\n",
    "optimal_model.score(X_test, y_test)"
   ]
  },
  {
   "cell_type": "markdown",
   "metadata": {},
   "source": [
    "It can be seen that my optimal model performs only slightly worse on the test set than on the training set (average accuracy across folds). This means that it generalises relatively well to unseen data. However, since the accuracy ($R^{2}$ score) is marginally lower on the test set, the model is over-fitting to the training data – but only slightly. It is likely that the large number of features used could be a source of over-fitting, and that the model may benefit from a more reductive feature selection process to enhance performance. The accuracy of the model on the test set could also likely be (marginally) increased by trialling more hyperparameters in a more exhaustive grid search method. Randomized grid search was used since performing grid search on ensemble methods can be very computationally demanding and therefore have long run times. The accuracy of the model could also be increased by increasing the amount of training data that is used, although it would mean that the accuracy score on the test set would be more volatile."
   ]
  }
 ],
 "metadata": {
  "kernelspec": {
   "display_name": "Python 3",
   "language": "python",
   "name": "python3"
  },
  "language_info": {
   "codemirror_mode": {
    "name": "ipython",
    "version": 3
   },
   "file_extension": ".py",
   "mimetype": "text/x-python",
   "name": "python",
   "nbconvert_exporter": "python",
   "pygments_lexer": "ipython3",
   "version": "3.6.5"
  }
 },
 "nbformat": 4,
 "nbformat_minor": 2
}
